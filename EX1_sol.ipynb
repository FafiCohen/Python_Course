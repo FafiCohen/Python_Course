{
  "nbformat": 4,
  "nbformat_minor": 0,
  "metadata": {
    "colab": {
      "provenance": [],
      "authorship_tag": "ABX9TyMKGDhCWe82fu3OYHWjs6ps",
      "include_colab_link": true
    },
    "kernelspec": {
      "name": "python3",
      "display_name": "Python 3"
    },
    "language_info": {
      "name": "python"
    }
  },
  "cells": [
    {
      "cell_type": "markdown",
      "metadata": {
        "id": "view-in-github",
        "colab_type": "text"
      },
      "source": [
        "<a href=\"https://colab.research.google.com/github/FafiCohen/Python_Course/blob/main/EX1_sol.ipynb\" target=\"_parent\"><img src=\"https://colab.research.google.com/assets/colab-badge.svg\" alt=\"Open In Colab\"/></a>"
      ]
    },
    {
      "cell_type": "markdown",
      "source": [
        "### EX1 - Solutions\n",
        "#### אליסף כהן\n",
        "#### 311524680"
      ],
      "metadata": {
        "id": "Efo5F0xVvP60"
      }
    },
    {
      "cell_type": "markdown",
      "source": [
        "שאלה מספר 1"
      ],
      "metadata": {
        "id": "shXlw4hRRkt2"
      }
    },
    {
      "cell_type": "code",
      "source": [
        "def sieve_Eratos(n):\n",
        "  #create list of trueQfalse in size of n\n",
        "  primes = [True] * (n + 1)\n",
        "  primes[0] = primes[1] = False\n",
        "  out_list=[2]\n",
        "\n",
        "# For loops that check if there is a number obtained as a result of the multiplication of the 'i' number\n",
        "  for i in range(2,n+1):\n",
        "    #if primes[i]:\n",
        "      for j in range(i * i, n + 1, i):\n",
        "        primes[j] = False\n",
        "#create primes list\n",
        "  for i in range(3,n+1,2):\n",
        "    if primes[i]:\n",
        "      out_list.append(i)\n",
        "  return out_list\n",
        "\n",
        "\n",
        "\n",
        "\n",
        "\n",
        "\n",
        "\n"
      ],
      "metadata": {
        "id": "eNC38oJURlW9"
      },
      "execution_count": null,
      "outputs": []
    },
    {
      "cell_type": "code",
      "source": [
        "print(sieve_Eratos(20))\n"
      ],
      "metadata": {
        "colab": {
          "base_uri": "https://localhost:8080/"
        },
        "id": "ccsuYBHsv0yc",
        "outputId": "402999ea-86d4-42a2-99a6-85259da8f5bf"
      },
      "execution_count": null,
      "outputs": [
        {
          "output_type": "stream",
          "name": "stdout",
          "text": [
            "[2, 3, 5, 7, 11, 13, 17, 19]\n"
          ]
        }
      ]
    },
    {
      "cell_type": "markdown",
      "source": [
        "שאלה מספר 2"
      ],
      "metadata": {
        "id": "0ZhNLwOhxw7z"
      }
    },
    {
      "cell_type": "code",
      "source": [
        "def odd_even_sort(lst):\n",
        "# simple base case\n",
        " if not lst:\n",
        "        return []\n",
        " current_number = lst[0]\n",
        " rest_of_list = lst[1:]\n",
        "\n",
        "#recursive step\n",
        " if (current_number%2) ==1:\n",
        "      return [current_number]+ odd_even_sort(rest_of_list)\n",
        " else:\n",
        "     return odd_even_sort(rest_of_list)+[current_number]\n",
        "\n",
        "\n",
        "\n",
        "\n",
        "\n",
        "\n"
      ],
      "metadata": {
        "id": "-mXC_9G1nAiq"
      },
      "execution_count": null,
      "outputs": []
    },
    {
      "cell_type": "code",
      "source": [
        "\n",
        "print(odd_even_sort([4,2,3,6,1]))"
      ],
      "metadata": {
        "colab": {
          "base_uri": "https://localhost:8080/"
        },
        "id": "btvmK49kwDcC",
        "outputId": "32634597-5453-44a1-a306-9b3efa2af3c6"
      },
      "execution_count": null,
      "outputs": [
        {
          "output_type": "stream",
          "name": "stdout",
          "text": [
            "[3, 1, 6, 2, 4]\n"
          ]
        }
      ]
    },
    {
      "cell_type": "markdown",
      "source": [
        "שאלה מספר 3"
      ],
      "metadata": {
        "id": "JedqLGHc9ufW"
      }
    },
    {
      "cell_type": "code",
      "source": [
        "def perfect_num(x):\n",
        "  sum_x=1\n",
        "  n=x-1\n",
        "  while n>1:\n",
        "    if x % n ==0:\n",
        "      sum_x+= n\n",
        "    n-=1\n",
        "  if sum_x==x:\n",
        "    return True\n",
        "  else:\n",
        "    return False\n",
        "\n",
        "\n"
      ],
      "metadata": {
        "id": "5dzmHGzQ2JkH"
      },
      "execution_count": null,
      "outputs": []
    },
    {
      "cell_type": "code",
      "source": [
        "print(perfect_num(28))"
      ],
      "metadata": {
        "colab": {
          "base_uri": "https://localhost:8080/"
        },
        "id": "hfIQNgK3wHc7",
        "outputId": "fda5d04e-de08-4cc6-b46f-865e528467f3"
      },
      "execution_count": null,
      "outputs": [
        {
          "output_type": "stream",
          "name": "stdout",
          "text": [
            "True\n"
          ]
        }
      ]
    },
    {
      "cell_type": "markdown",
      "source": [
        "שאלה מספר 4\n"
      ],
      "metadata": {
        "id": "D_aZBKZ2-IlU"
      }
    },
    {
      "cell_type": "code",
      "source": [
        "def get_all_permutations(lst):\n",
        "   # Base case\n",
        "    if len(lst) == 0:\n",
        "        return [[]]\n",
        "\n",
        "    permutations = []\n",
        "    for i in range(len(lst)):\n",
        "       # Recursively generate permutations for the remaining elements\n",
        "        remaining_permutations = get_all_permutations(lst[:i] + lst[i+1:])\n",
        "\n",
        "\n",
        "        for permutation in remaining_permutations:\n",
        "            permutations.append([lst[i]] + permutation)\n",
        "\n",
        "    return permutations\n",
        "\n",
        "\n"
      ],
      "metadata": {
        "id": "A5LAjogj4JNO"
      },
      "execution_count": null,
      "outputs": []
    },
    {
      "cell_type": "code",
      "source": [
        "print(get_all_permutations([1,2,3]))"
      ],
      "metadata": {
        "colab": {
          "base_uri": "https://localhost:8080/"
        },
        "id": "Y0MrOxi6wU6L",
        "outputId": "574bad03-93e1-4a00-c3bd-1dee7aed3040"
      },
      "execution_count": null,
      "outputs": [
        {
          "output_type": "stream",
          "name": "stdout",
          "text": [
            "[[1, 2, 3], [1, 3, 2], [2, 1, 3], [2, 3, 1], [3, 1, 2], [3, 2, 1]]\n"
          ]
        }
      ]
    },
    {
      "cell_type": "markdown",
      "source": [
        "שאלה מספר 5"
      ],
      "metadata": {
        "id": "oq7JMVTcV46r"
      }
    },
    {
      "cell_type": "code",
      "source": [
        "def reverse_string_words(string):\n",
        "  words_str=string.split()\n",
        "\n",
        "  new_lst=[]\n",
        "  for i in range(len(words_str)):\n",
        "    p=words_str.pop()\n",
        "    new_lst.append(p)\n",
        "  new_str=' '.join(new_lst)\n",
        "  return new_str\n",
        "\n",
        "\n"
      ],
      "metadata": {
        "id": "lRHW-sh7V9vt"
      },
      "execution_count": null,
      "outputs": []
    },
    {
      "cell_type": "code",
      "source": [
        "print(reverse_string_words(\" I like writing code in Python\"))"
      ],
      "metadata": {
        "id": "lZpxlku9wf_j",
        "outputId": "1a268ada-a37f-42f6-ca79-6e2bf6eef78d",
        "colab": {
          "base_uri": "https://localhost:8080/"
        }
      },
      "execution_count": null,
      "outputs": [
        {
          "output_type": "stream",
          "name": "stdout",
          "text": [
            "Python in code writing like I\n"
          ]
        }
      ]
    }
  ]
}